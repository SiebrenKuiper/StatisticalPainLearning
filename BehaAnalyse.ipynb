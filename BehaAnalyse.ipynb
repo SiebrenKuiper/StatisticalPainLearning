{
 "cells": [
  {
   "cell_type": "code",
   "execution_count": 71,
   "metadata": {},
   "outputs": [],
   "source": [
    "import pandas as pd\n",
    "import numpy as np\n",
    "import pingouin as pg\n",
    "from matplotlib import pyplot as plt \n",
    "import seaborn as sns"
   ]
  },
  {
   "cell_type": "code",
   "execution_count": 72,
   "metadata": {},
   "outputs": [
    {
     "name": "stdout",
     "output_type": "stream",
     "text": [
      "    subject  session  trial  seq        rt  gen_p1g2  gen_p2g1  prob_pxl  \\\n",
      "21        6        1     22    2  5.318199      0.75      0.40     690.0   \n",
      "42        6        1     43    1  4.738264      0.75      0.40     700.0   \n",
      "60        6        1     61    1  4.147888      0.75      0.40     755.0   \n",
      "79        6        1     80    2  3.889652      0.35      0.85     735.0   \n",
      "98        6        1     99    2  3.973970      0.35      0.85     690.0   \n",
      "\n",
      "    prob_obs  obs_p1g2  obs_p2g1  obs_p1g1  obs_p2g2    obs_p1    obs_p2  \\\n",
      "21  0.800000       0.2       NaN       NaN       0.8  0.200000  0.800000   \n",
      "42  0.733333       NaN  0.266667  0.733333       NaN  0.733333  0.266667   \n",
      "60  0.366667       NaN  0.633333  0.366667       NaN  0.366667  0.633333   \n",
      "79  0.500000       0.5       NaN       NaN       0.5  0.500000  0.500000   \n",
      "98  0.800000       0.2       NaN       NaN       0.8  0.200000  0.800000   \n",
      "\n",
      "       obs_p  runtime  \n",
      "21  0.200000    40.25  \n",
      "42  0.266667    78.90  \n",
      "60  0.633333   112.80  \n",
      "79  0.500000   148.20  \n",
      "98  0.200000   183.55  \n"
     ]
    }
   ],
   "source": [
    "behdata = pd.read_csv('BehaData/fmri_behavioural_new.csv')\n",
    "behdata = behdata.dropna(subset=['obs_p1g2', 'obs_p2g1'], how='all')\n",
    "print(behdata.head())"
   ]
  },
  {
   "cell_type": "code",
   "execution_count": 73,
   "metadata": {},
   "outputs": [],
   "source": [
    "behdata[\"gen_p1g1\"] = 1 - behdata[\"gen_p2g1\"]\n",
    "behdata[\"gen_p2g2\"] = 1 - behdata[\"gen_p1g2\"]\n",
    "behdata[\"gen_p1\"] = (behdata[\"gen_p1g1\"] + behdata[\"gen_p1g2\"])/(behdata[\"gen_p1g1\"] + behdata[\"gen_p1g2\"] + behdata[\"gen_p2g1\"] + behdata[\"gen_p2g2\"])\n",
    "behdata[\"gen_p2\"] = (behdata[\"gen_p2g1\"] + behdata[\"gen_p2g2\"])/(behdata[\"gen_p1g1\"] + behdata[\"gen_p1g2\"] + behdata[\"gen_p2g1\"] + behdata[\"gen_p2g2\"])"
   ]
  },
  {
   "cell_type": "markdown",
   "metadata": {},
   "source": [
    "# 被试表现出来的转移系数和实际设定的转移系数之间的相关"
   ]
  },
  {
   "cell_type": "markdown",
   "metadata": {},
   "source": [
    "## L|H"
   ]
  },
  {
   "cell_type": "code",
   "execution_count": 74,
   "metadata": {},
   "outputs": [
    {
     "name": "stdout",
     "output_type": "stream",
     "text": [
      "           n         r         CI95%     p-val     BF10     power\n",
      "pearson  983  0.131399  [0.07, 0.19]  0.000036  201.487  0.985348\n"
     ]
    }
   ],
   "source": [
    "# 在 L|H 上的设定的转移系数和被试反应的转移系数的相关状况\n",
    "DataLP = behdata[['gen_p1g2', 'obs_p1g2','subject']].dropna()\n",
    "DataLP_sublevel = DataLP.groupby(['subject']).transform(lambda x: (x - x.mean()) / x.std())\n",
    "DataLP_sublevel[\"subject\"] = DataLP[\"subject\"]\n",
    "DataLP_sublevel = DataLP_sublevel.rename(\n",
    "    columns={'gen_p1g2':'Generative p(L|H)',\n",
    "             'obs_p1g2':'Observed p(L|H)'})\n",
    "print(pg.corr(\n",
    "    x=DataLP_sublevel['Generative p(L|H)'], \n",
    "    y=DataLP_sublevel['Observed p(L|H)'], \n",
    "    method='pearson'))"
   ]
  },
  {
   "cell_type": "code",
   "execution_count": 75,
   "metadata": {},
   "outputs": [
    {
     "name": "stdout",
     "output_type": "stream",
     "text": [
      "0.7428571428571429\n"
     ]
    }
   ],
   "source": [
    "# 对每个被试分别做相关，看看多少被试的相关系数大于0\n",
    "r_ls = []\n",
    "for subid in behdata[\"subject\"].unique():\n",
    "    subdata = DataLP[DataLP[\"subject\"] == subid]\n",
    "    corr = pg.corr(\n",
    "        x=subdata['gen_p1g2'], \n",
    "        y=subdata['obs_p1g2'], \n",
    "        method='pearson')\n",
    "    r_ls.append(corr['r'].values[0])\n",
    "print(len([r for r in r_ls if r > 0])/len(r_ls))"
   ]
  },
  {
   "cell_type": "markdown",
   "metadata": {},
   "source": [
    "## H|H"
   ]
  },
  {
   "cell_type": "code",
   "execution_count": 76,
   "metadata": {},
   "outputs": [
    {
     "name": "stdout",
     "output_type": "stream",
     "text": [
      "           n         r         CI95%     p-val     BF10     power\n",
      "pearson  983  0.131399  [0.07, 0.19]  0.000036  201.487  0.985348\n"
     ]
    }
   ],
   "source": [
    "# 在 H|H 上的设定的转移系数和被试反应的转移系数的相关状况\n",
    "DataHH = behdata[['gen_p2g2', 'obs_p2g2','subject']].dropna()\n",
    "DataHH_sublevel = DataHH.groupby(['subject']).transform(lambda x: (x - x.mean()) / x.std())\n",
    "DataHH_sublevel[\"subject\"] = DataHH[\"subject\"]\n",
    "DataHH_sublevel = DataHH_sublevel.rename(\n",
    "    columns={'gen_p2g2':'Generative p(H|H)',\n",
    "             'obs_p2g2':'Observed p(H|H)'})\n",
    "print(pg.corr(\n",
    "    x=DataHH_sublevel['Generative p(H|H)'], \n",
    "    y=DataHH_sublevel['Observed p(H|H)'], \n",
    "    method='pearson'))"
   ]
  },
  {
   "cell_type": "code",
   "execution_count": 77,
   "metadata": {},
   "outputs": [
    {
     "name": "stdout",
     "output_type": "stream",
     "text": [
      "0.7428571428571429\n"
     ]
    }
   ],
   "source": [
    "r_ls = []\n",
    "for subid in behdata[\"subject\"].unique():\n",
    "    subdata = DataHH[DataHH[\"subject\"] == subid]\n",
    "    corr = pg.corr(\n",
    "        x=subdata['gen_p2g2'], \n",
    "        y=subdata['obs_p2g2'], \n",
    "        method='pearson')\n",
    "    r_ls.append(corr['r'].values[0])\n",
    "print(len([r for r in r_ls if r > 0])/len(r_ls))"
   ]
  },
  {
   "cell_type": "markdown",
   "metadata": {},
   "source": [
    "## H|L"
   ]
  },
  {
   "cell_type": "code",
   "execution_count": 78,
   "metadata": {},
   "outputs": [
    {
     "name": "stdout",
     "output_type": "stream",
     "text": [
      "            n         r         CI95%     p-val     BF10     power\n",
      "pearson  1121  0.118704  [0.06, 0.18]  0.000068  103.567  0.978798\n"
     ]
    }
   ],
   "source": [
    "# 在 H|L 上的设定的转移系数和被试反应的转移系数的相关状况\n",
    "DataHL = behdata[['gen_p2g1', 'obs_p2g1','subject']].dropna()\n",
    "DataHL_sublevel = DataHL.groupby(['subject']).transform(lambda x: (x - x.mean()) / x.std())\n",
    "DataHL_sublevel[\"subject\"] = DataHL[\"subject\"]\n",
    "DataHL_sublevel = DataHL_sublevel.rename(\n",
    "    columns={'gen_p2g1':'Generative p(H|L)',\n",
    "             'obs_p2g1':'Observed p(H|L)'})\n",
    "print(pg.corr(\n",
    "    x=DataHL_sublevel['Generative p(H|L)'], \n",
    "    y=DataHL_sublevel['Observed p(H|L)'], \n",
    "    method='pearson'))"
   ]
  },
  {
   "cell_type": "code",
   "execution_count": 79,
   "metadata": {},
   "outputs": [
    {
     "name": "stdout",
     "output_type": "stream",
     "text": [
      "0.7428571428571429\n"
     ]
    }
   ],
   "source": [
    "r_ls = []\n",
    "for subid in behdata[\"subject\"].unique():\n",
    "    subdata = DataHL[DataHL[\"subject\"] == subid]\n",
    "    corr = pg.corr(\n",
    "        x=subdata['gen_p2g1'], \n",
    "        y=subdata['obs_p2g1'], \n",
    "        method='pearson')\n",
    "    r_ls.append(corr['r'].values[0])\n",
    "print(len([r for r in r_ls if r > 0])/len(r_ls))"
   ]
  },
  {
   "cell_type": "markdown",
   "metadata": {},
   "source": [
    "## L|L"
   ]
  },
  {
   "cell_type": "code",
   "execution_count": 80,
   "metadata": {},
   "outputs": [
    {
     "name": "stdout",
     "output_type": "stream",
     "text": [
      "            n         r         CI95%     p-val     BF10     power\n",
      "pearson  1121  0.118704  [0.06, 0.18]  0.000068  103.567  0.978798\n"
     ]
    }
   ],
   "source": [
    "# 在 L|L 上的设定的转移系数和被试反应的转移系数的相关状况\n",
    "DataLL = behdata[['gen_p1g1', 'obs_p1g1','subject']].dropna()\n",
    "DataLL_sublevel = DataLL.groupby(['subject']).transform(lambda x: (x - x.mean()) / x.std())\n",
    "DataLL_sublevel[\"subject\"] = DataLL[\"subject\"]\n",
    "DataLL_sublevel = DataLL_sublevel.rename(\n",
    "    columns={'gen_p1g1':'Generative p(L|L)',\n",
    "             'obs_p1g1':'Observed p(L|L)'})\n",
    "print(pg.corr(\n",
    "    x=DataLL_sublevel['Generative p(L|L)'], \n",
    "    y=DataLL_sublevel['Observed p(L|L)'], \n",
    "    method='pearson'))"
   ]
  },
  {
   "cell_type": "code",
   "execution_count": 81,
   "metadata": {},
   "outputs": [
    {
     "name": "stdout",
     "output_type": "stream",
     "text": [
      "0.7428571428571429\n"
     ]
    }
   ],
   "source": [
    "r_ls = []\n",
    "for subid in behdata[\"subject\"].unique():\n",
    "    subdata = DataLL[DataLL[\"subject\"] == subid]\n",
    "    corr = pg.corr(\n",
    "        x=subdata['gen_p1g1'], \n",
    "        y=subdata['obs_p1g1'], \n",
    "        method='pearson')\n",
    "    r_ls.append(corr['r'].values[0])\n",
    "print(len([r for r in r_ls if r > 0])/len(r_ls))"
   ]
  }
 ],
 "metadata": {
  "kernelspec": {
   "display_name": "Statistics",
   "language": "python",
   "name": "python3"
  },
  "language_info": {
   "codemirror_mode": {
    "name": "ipython",
    "version": 3
   },
   "file_extension": ".py",
   "mimetype": "text/x-python",
   "name": "python",
   "nbconvert_exporter": "python",
   "pygments_lexer": "ipython3",
   "version": "3.12.0"
  }
 },
 "nbformat": 4,
 "nbformat_minor": 2
}
