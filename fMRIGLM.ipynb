{
 "cells": [
  {
   "cell_type": "code",
   "execution_count": 5,
   "metadata": {},
   "outputs": [],
   "source": [
    "from nilearn import image\n",
    "from nilearn import glm\n",
    "from nilearn import plotting\n",
    "import numpy as np\n",
    "import pandas as pd\n",
    "import scipy\n",
    "import matplotlib.pyplot as plt\n",
    "import os\n",
    "from joblib import Parallel, delayed"
   ]
  },
  {
   "cell_type": "code",
   "execution_count": 6,
   "metadata": {},
   "outputs": [],
   "source": [
    "time_repetition = 2"
   ]
  },
  {
   "cell_type": "code",
   "execution_count": 7,
   "metadata": {},
   "outputs": [],
   "source": [
    "sublist = [\n",
    "    \"06\",\"07\",\"08\",\"09\",\"10\",\"11\",\n",
    "    \"13\",\"14\",\"15\",\"16\",\"17\",\"18\",\"19\",\"20\",\"21\",\"22\",\"23\",\"24\",\"25\",\"26\",\"27\",\"28\",\"29\",\"30\",\"31\",\"32\",\"33\",\n",
    "    \"36\",\"37\",\"38\",\"39\",\n",
    "    \"41\",\"42\",\"43\",\"44\"\n",
    "    ]\n",
    "\n",
    "runlist = [\n",
    "    \"01\",\"02\",\"03\",\"04\",\"05\"\n",
    "    ]"
   ]
  },
  {
   "cell_type": "code",
   "execution_count": 8,
   "metadata": {},
   "outputs": [
    {
     "name": "stderr",
     "output_type": "stream",
     "text": [
      "/tmp/ipykernel_27393/301209784.py:9: UserWarning: Data array used to create a new image contains 64-bit ints. This is likely due to creating the array with numpy and passing `int` as the `dtype`. Many tools such as FSL and SPM cannot deal with int64 in Nifti images, so for compatibility the data has been converted to int32.\n",
      "  group_mask = image.new_img_like(files[0], group_mask)\n"
     ]
    }
   ],
   "source": [
    "all_masks, files = [], []\n",
    "msk_thrs = 1\n",
    "for subid in sublist:\n",
    "    funcdir = os.path.join('/research/Re/StatisticalPainLearning/derivatives/preprocessed', f'sub-{subid}', 'func')\n",
    "    all_masks += [image.load_img(os.path.join(funcdir, f)).get_fdata() for f in os.listdir(funcdir) if 'MNI152NLin2009cAsym_desc-brain_mask.nii.gz' in f]\n",
    "    files += [os.path.join(funcdir, f) for f in os.listdir(funcdir) if 'MNI152NLin2009cAsym_desc-brain_mask.nii.gz' in f]\n",
    "all_masks = np.stack(all_masks)\n",
    "group_mask = np.where(np.sum(all_masks, axis=0)/all_masks.shape[0] >= msk_thrs, 1, 0)\n",
    "group_mask = image.new_img_like(files[0], group_mask)\n",
    "group_mask.to_filename('/research/Re/StatisticalPainLearning/derivatives/group_mask.nii.gz')"
   ]
  },
  {
   "cell_type": "code",
   "execution_count": 9,
   "metadata": {},
   "outputs": [],
   "source": [
    "def run_firstlevel(subid, runid):\n",
    "    templates = dict(\n",
    "        func = os.path.join(\"derivatives\",\"preprocessed\",\"sub-{subid}\",\"func\",\"sub-{subid}_task-tsl_run-{runid}_space-MNI152NLin2009cAsym_desc-preproc_bold.nii.gz\"),\n",
    "        confound = os.path.join(\"derivatives\",\"preprocessed\",\"sub-{subid}\",\"func\",\"sub-{subid}_task-tsl_run-{runid}_desc-confounds_timeseries.tsv\"),\n",
    "        event = os.path.join(\"BIDSdata\",\"sub-{subid}\",\"func\",\"sub-{subid}_task-tsl_run-{runid}_events.tsv\"))\n",
    "    \n",
    "    print(f\"Processing {templates['func'].format(subid=subid,runid=runid)}\")\n",
    "    \n",
    "    if not os.path.exists(os.path.join(\"derivatives\",\"firstlevel\",f\"sub-{subid}\")):\n",
    "        os.makedirs(os.path.join(\"derivatives\",\"firstlevel\",f\"sub-{subid}\"))\n",
    "    \n",
    "    func = templates[\"func\"].format(subid=subid,runid=runid)\n",
    "    confound = templates[\"confound\"].format(subid=subid,runid=runid)\n",
    "    event = templates[\"event\"].format(subid=subid,runid=runid)\n",
    "\n",
    "    confound_data = pd.read_csv(confound, sep=\"\\t\")\n",
    "    event_data = pd.read_csv(event, sep=\"\\t\")\n",
    "    func_run = image.load_img(func)\n",
    "    func_run = func_run.slicer[..., 4:]\n",
    "    n_scans = func_run.shape[-1]\n",
    "\n",
    "    confound_names = ['csf','white_matter','global_signal',\n",
    "                    'trans_x', 'trans_y', 'trans_z', 'rot_x','rot_y','rot_z']\n",
    "    \n",
    "    regressors = confound_data[confound_names].loc[4:].fillna(0)\n",
    "    \n",
    "    design_matrix = glm.first_level.make_first_level_design_matrix(\n",
    "        frame_times = np.arange(n_scans) * time_repetition,\n",
    "        events = event_data,\n",
    "        drift_model = \"polynomial\",\n",
    "        add_regs = regressors,\n",
    "        add_reg_names= confound_names)\n",
    "    \n",
    "    plotting.plot_design_matrix(\n",
    "        design_matrix=design_matrix,\n",
    "        output_file=os.path.join(\"derivatives\",\"firstlevel\",f\"sub-{subid}\",f\"sub-{subid}_run-{runid}_design_matrix.png\"))\n",
    "    \n",
    "    first_GLM = glm.first_level.FirstLevelModel(\n",
    "        t_r = time_repetition,\n",
    "        noise_model = \"ar1\",\n",
    "        standardize = False,\n",
    "        hrf_model = \"glover\",\n",
    "        high_pass = 1/128, \n",
    "        minimize_memory = True,\n",
    "        smoothing_fwhm=8,\n",
    "        n_jobs=-1)\n",
    "    \n",
    "    first_fit = first_GLM.fit(\n",
    "        run_imgs=func_run,\n",
    "        design_matrices=design_matrix)\n",
    "\n",
    "    c_map = first_fit.compute_contrast(\n",
    "        contrast_def=\"high-low\",\n",
    "        stat_type='t', \n",
    "        output_type='z_score')\n",
    "\n",
    "    c_map.to_filename(\n",
    "        os.path.join(\"derivatives\",\"firstlevel\",f\"sub-{subid}\",f\"sub-{subid}_run-{runid}_contrast.nii.gz\")\n",
    "    )\n",
    "\n",
    "    report = first_fit.generate_report(\n",
    "        contrasts=[\"high-low\"])\n",
    "    report.save_as_html(\n",
    "        os.path.join(\"derivatives\",\"firstlevel\",f\"sub-{subid}\",f\"sub-{subid}_run-{runid}_report.html\"))\n",
    "    return c_map"
   ]
  },
  {
   "cell_type": "code",
   "execution_count": 10,
   "metadata": {},
   "outputs": [],
   "source": [
    "sj_ls = [f.split('-')[1] for f in os.listdir(\"/research/Re/StatisticalPainLearning/derivatives/preprocessed\") if f.startswith('sub') and not f.endswith('.html')]\n",
    "sj_to_fl = {sj: [] for sj in sj_ls}\n",
    "for j in sj_ls:\n",
    "    fl = [f[20:22] for f in os.listdir(os.path.join(\"/research/Re/StatisticalPainLearning/derivatives/preprocessed\", f\"sub-{j}\", \"func\")) if f.endswith(\"bold.nii.gz\")]\n",
    "    sj_to_fl[j] = fl"
   ]
  },
  {
   "cell_type": "code",
   "execution_count": null,
   "metadata": {},
   "outputs": [
    {
     "name": "stdout",
     "output_type": "stream",
     "text": [
      "Processing derivatives/preprocessed/sub-32/func/sub-32_task-tsl_run-02_space-MNI152NLin2009cAsym_desc-preproc_bold.nii.gz\n",
      "Processing derivatives/preprocessed/sub-32/func/sub-32_task-tsl_run-03_space-MNI152NLin2009cAsym_desc-preproc_bold.nii.gz\n",
      "Processing derivatives/preprocessed/sub-32/func/sub-32_task-tsl_run-01_space-MNI152NLin2009cAsym_desc-preproc_bold.nii.gz\n",
      "Processing derivatives/preprocessed/sub-32/func/sub-32_task-tsl_run-04_space-MNI152NLin2009cAsym_desc-preproc_bold.nii.gz\n",
      "Processing derivatives/preprocessed/sub-32/func/sub-32_task-tsl_run-05_space-MNI152NLin2009cAsym_desc-preproc_bold.nii.gz\n",
      "Processing derivatives/preprocessed/sub-27/func/sub-27_task-tsl_run-02_space-MNI152NLin2009cAsym_desc-preproc_bold.nii.gz\n",
      "Processing derivatives/preprocessed/sub-27/func/sub-27_task-tsl_run-05_space-MNI152NLin2009cAsym_desc-preproc_bold.nii.gz\n",
      "Processing derivatives/preprocessed/sub-27/func/sub-27_task-tsl_run-04_space-MNI152NLin2009cAsym_desc-preproc_bold.nii.gz\n"
     ]
    }
   ],
   "source": [
    "c_map_list = Parallel(n_jobs=8)(\n",
    "    delayed(run_firstlevel)(subid, runid) for subid in sj_ls for runid in sj_to_fl[subid]\n",
    ")"
   ]
  },
  {
   "cell_type": "code",
   "execution_count": null,
   "metadata": {},
   "outputs": [],
   "source": [
    "design_matrix = pd.DataFrame(\n",
    "    np.ones(len(c_map_list)),\n",
    "    columns=[\"intercept\"])\n",
    "\n",
    "secondlevelmodel = glm.second_level.SecondLevelModel(\n",
    "    mask_img=group_mask,\n",
    "    n_jobs=-1)\n",
    "\n",
    "second_level_model = secondlevelmodel.fit(\n",
    "    second_level_input=c_map_list,\n",
    "    design_matrix=design_matrix)\n",
    "\n",
    "\n",
    "z_map = second_level_model.compute_contrast(\n",
    "    second_level_contrast=\"intercept\",\n",
    "    output_type=\"z_score\")\n",
    "\n",
    "z_map.to_filename(\n",
    "    os.path.join(\"/research/Re/StatisticalPainLearning/derivatives/secondlevel/z_map.nii.gz\"))\n",
    "\n",
    "second_level_report = second_level_model.generate_report(\n",
    "    contrasts=[\"intercept\"],\n",
    "    title=\"Results of the second-level analysis\",\n",
    "    alpha = 0.001, \n",
    "    cluster_threshold = 10,\n",
    "    height_control = \"fpr\",\n",
    "    display_mode=\"ortho\")\n",
    "second_level_report.save_as_html(\"/research/Re/StatisticalPainLearning/derivatives/secondlevel/nilearn_report.html\")"
   ]
  }
 ],
 "metadata": {
  "kernelspec": {
   "display_name": "fMRI",
   "language": "python",
   "name": "python3"
  },
  "language_info": {
   "codemirror_mode": {
    "name": "ipython",
    "version": 3
   },
   "file_extension": ".py",
   "mimetype": "text/x-python",
   "name": "python",
   "nbconvert_exporter": "python",
   "pygments_lexer": "ipython3",
   "version": "3.12.0"
  }
 },
 "nbformat": 4,
 "nbformat_minor": 2
}
