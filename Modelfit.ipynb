{
 "cells": [
  {
   "cell_type": "code",
   "execution_count": 26,
   "metadata": {},
   "outputs": [],
   "source": [
    "import pandas as pd\n",
    "import numpy as np\n",
    "from Model.FixedFreqModel import FixedFreqModel\n",
    "from Model.LossFunc import fit_model"
   ]
  },
  {
   "cell_type": "code",
   "execution_count": 27,
   "metadata": {},
   "outputs": [],
   "source": [
    "Data = pd.read_csv(\"BehaData/fmri_behavioural_new.csv\")"
   ]
  },
  {
   "cell_type": "code",
   "execution_count": 28,
   "metadata": {},
   "outputs": [],
   "source": [
    "Sub10Data = Data[Data['subject'] == 10]"
   ]
  },
  {
   "cell_type": "code",
   "execution_count": 29,
   "metadata": {},
   "outputs": [],
   "source": [
    "Sub10Data = Sub10Data.dropna(subset=['obs_p2', 'seq', 'session'])"
   ]
  },
  {
   "cell_type": "code",
   "execution_count": 30,
   "metadata": {},
   "outputs": [
    {
     "name": "stdout",
     "output_type": "stream",
     "text": [
      "[ 0.66773367  0.42970738 -0.00774072  0.33138607] -160.92280393289334\n"
     ]
    }
   ],
   "source": [
    "result = fit_model(\n",
    "    obs_p1=Sub10Data[\"obs_p1\"],\n",
    "    obs_p2=Sub10Data[\"obs_p2\"],\n",
    "    session = Sub10Data[\"session\"],\n",
    "    seq = Sub10Data[\"seq\"])\n",
    "print(result[\"x\"],result[\"fun\"])"
   ]
  }
 ],
 "metadata": {
  "kernelspec": {
   "display_name": "Statistics",
   "language": "python",
   "name": "python3"
  },
  "language_info": {
   "codemirror_mode": {
    "name": "ipython",
    "version": 3
   },
   "file_extension": ".py",
   "mimetype": "text/x-python",
   "name": "python",
   "nbconvert_exporter": "python",
   "pygments_lexer": "ipython3",
   "version": "3.12.0"
  }
 },
 "nbformat": 4,
 "nbformat_minor": 2
}
